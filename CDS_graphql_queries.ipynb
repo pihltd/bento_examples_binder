{
 "cells": [
  {
   "cell_type": "markdown",
   "id": "7f3aebe3-9d61-4a99-8186-3f67f22f7161",
   "metadata": {},
   "source": [
    "In this notebook, we'll use what we learned via GraphQL introspection to query the CDS database for cases and assocaited files that we can export for analysis\n",
    "A few useful links:\n",
    "\n",
    "The CDS Data Model: https://dataservice.datacommons.cancer.gov/#/resources\n",
    "The CDS GraphQL endpoint: https://dataservice.datacommons.cancer.gov/v1/graphql/\n",
    "The GraphiQL interface in CDS (a good place to build and practice queries): https://dataservice.datacommons.cancer.gov/#/graphql\n"
   ]
  },
  {
   "cell_type": "markdown",
   "id": "15702a98-4cc1-44e9-bdde-31e654e5386b",
   "metadata": {},
   "source": [
    "As before we'll import a few useful libraries and set up a routine to run queries and return JSON results"
   ]
  },
  {
   "cell_type": "code",
   "execution_count": 1,
   "id": "2ea7564a-43f6-46fd-a9e0-842da3f4769f",
   "metadata": {},
   "outputs": [],
   "source": [
    "import pandas as pd\n",
    "import requests\n",
    "from IPython.display import display, Markdown, Latex"
   ]
  },
  {
   "cell_type": "code",
   "execution_count": 2,
   "id": "b67106da-88f3-403d-9b0d-ccdb30b3328c",
   "metadata": {},
   "outputs": [],
   "source": [
    "cds_graphql_url = \"https://dataservice.datacommons.cancer.gov/v1/graphql/\""
   ]
  },
  {
   "cell_type": "code",
   "execution_count": 3,
   "id": "6df88991-748d-4aba-855e-006418f3f776",
   "metadata": {},
   "outputs": [],
   "source": [
    "def runGraphQLQuery(url,query,variables):\n",
    "    headers = {\"content-type\":\"application/json\"}\n",
    "    try:\n",
    "        if variables is None:\n",
    "            results = requests.post(url = url, json={\"query\":query, \"headers\":headers})\n",
    "        else:\n",
    "            results = requests.post(url=url, json={\"query\":query, \"headers\":headers, \"variables\":variables})\n",
    "        results = results.json()\n",
    "    except requests.exceptions.HTTPError as exception:\n",
    "        print(exception)\n",
    "    return results"
   ]
  },
  {
   "cell_type": "markdown",
   "id": "7d2041f4-40e3-4122-a056-0e8fa4b68909",
   "metadata": {},
   "source": [
    "One potential starting point would be to find cases associated with a specific disease.  CDS has many different diseases, so a first step would be to query the system and get a listing.  CDS stores this information in the \"primary_diagnosis\" field in the diagnosis section of the CDS data model"
   ]
  },
  {
   "cell_type": "code",
   "execution_count": 4,
   "id": "7e599dd6-9a55-4268-9b4d-a66ce0404175",
   "metadata": {},
   "outputs": [],
   "source": [
    "disease_query = \"\"\"\n",
    "{\n",
    "  diagnosis{\n",
    "    primary_diagnosis\n",
    "  }\n",
    "}\n",
    "\"\"\""
   ]
  },
  {
   "cell_type": "code",
   "execution_count": 5,
   "id": "78b3eee0-e241-4da4-b998-770a043979dc",
   "metadata": {},
   "outputs": [],
   "source": [
    "diseases = runGraphQLQuery(cds_graphql_url, disease_query, None)"
   ]
  },
  {
   "cell_type": "code",
   "execution_count": 6,
   "id": "6b778bbe-c83c-4674-90a7-fb19d6db5e5e",
   "metadata": {},
   "outputs": [],
   "source": [
    "diseases = diseases['data']['diagnosis']"
   ]
  },
  {
   "cell_type": "code",
   "execution_count": 7,
   "id": "6f0a2636-61d5-45df-87dd-5ce33b994117",
   "metadata": {},
   "outputs": [
    {
     "name": "stdout",
     "output_type": "stream",
     "text": [
      "['Alveolar Rhabdomyosarcoma', 'Myelodysplastic Syndrome With Single Lineage Dysplasia', 'Malignant Rhabdoid Tumor', 'Central Neuroblastoma', 'Serous Surface Papillary Carcinoma', 'High-grade CNS Neoplasm', 'Choroid Plexus Carcinoma', 'Choroid Plexus Papillary Tumor', 'Large Cell Medulloblastoma', 'Extrarenal Malignant Rhabdoid Tumor', 'Residual Dermatofibrosarcoma Protuberans', 'Low-grade Glial/Glioneuronal tumor', 'Histiocytic Malignancy', 'Cerebellar Tumor', 'Undifferentiated, high-grade neoplasm/sarcoma', 'Paratesticular Rhabdomyosarcoma', 'Low Grade Glial Neoplasm', 'Infantile Fibrosarcoma', 'Low-grade glial/glioneuronal neoplasm', 'Non-WNT/non-SHH medulloblastoma', 'Myelodysplastic Syndrome With Multilineage Dysplasia', 'Suprasellar Mass', 'Left Temporal Tumor', 'Pineoblastoma', 'Low Grade Glioneuronal Neoplasm', 'Glial Neoplasm', 'Adrenal Cortical Carcinoma', 'Cerebellar Mass', 'Central neurocytoma', 'Cellular Ependymoma', 'Myxoid Liposarcoma', 'Squamous Cell Carcinoma NOS', 'Astrocytic Glioma', 'Malignant myoepithelial of pediatric type', 'Diffuse Astrocytoma', 'Metastatic Alveolar Rhabdomyosarcoma', 'Chondroblastic Osteosarcoma', 'SMARCB1-deficient undifferentiated round cell sarcoma', 'Brain Tumor', 'Hepatoblastoma', 'Infiltrating Glioma', 'Astrocytic Neoplasm', 'Desmoid-type Fibromatosis', 'High Grade Neuroepithelial Tumor', 'Pancreatobiliary-Type Carcinoma', 'Undifferential Small Round Blue Cell Tumor', 'Neurofibromatosis; Moderately cellular neoplasm', 'Subependymal Giant Cell Astrocytoma', 'High-grade Ependymal Neoplasm', 'Posterior Fossa Ependymoma', 'Malignant embryonal tumor, favor medulloblastoma', 'Thalamic Brain Tumor', 'Neoplasm', 'Malignant small blue cell neoplasm, consistent with rhabdomyosarcoma', 'High-grade blue cell tumor', 'High-grade Central Nervous System Neoplasm Favor Embryonal', 'Neuroepithelial Tumor', 'Glioneuronal Lesion', 'Primary central nervous system neoplasm consistent with high grade glioma', 'Low Grade Fibromyxoid Sarcoma', 'Anaplastic Ganglioglioma', 'High-grade tumor', 'Yolk Sac Tumor', 'Spindle Cell Sarcoma', 'Carcinoma NOS', 'Small Round Blue Cell Sarcoma', 'Undifferentiated sarcoma', 'High-grade serous carcinoma', 'Supratentorial Ependymoma', 'Dysembryoplastic Neuroepithelial Tumor', 'B-lymphoblastic leukemia/lymphoma, NOS', 'Infant Hemispheric Glioma', 'Atypical Spindle Cell Proliferation', 'Lobular Carcinoma NOS', 'Angiocentric Glioma', 'Piloid Glial Proliferation', 'Infiltrating duct carcinoma NOS', 'Mixed Germ Cell Tumor', 'Ewing Sarcoma', 'Malignant glioma', 'Ganglioneuroblastoma', 'Poorly Differentiated Malignant Neoplasm with Sarcomatoid Features', 'Sertoli Leydig Cell Tumor', 'Pineal Parenchymal Tumor', 'Myofibroma', 'Not Reported', 'Atypical Epithelial Neoplasm', 'Anaplastic Large Cell Lymphoma, ALK Positive', 'Spindle Cell Neoplasm', 'Familial Adenomatous Polyposis', 'Mixed-Phenotype Acute Leukemia, T/Myeloid, Not Otherwise Specified', 'Germinoma', 'Acute Megakaryoblastic Leukemia', 'Nasopharyngeal Carcinoma Metastatic', 'Low Grade Glial Tumor', 'Well Differentiated Embryonal Rhabdomyosarcoma', 'Renal medullary carcinoma', 'Meningioma', 'Glioblastoma', 'Atypical Teratoid/Rhabdoid Tumor', 'Anaplastic Ependymoma', 'Brain, High Grade Lesion', 'Low Grade Primary CNS Neoplasm', 'Not specified in data', 'Poorly Differentiated Sarcoma', 'Anaplastic Medulloblastoma', 'CNS primative neuroectodermal tumor (PNET)', 'Myeloid leukemia associated with Down Syndrome', 'Pilocytic Astrocytoma', 'CNS Embryonal Tumor', 'Astrocytoma', 'Papillary Thyroid Carcinoma', 'Hemangioblastoma', 'Left Thoracic Tumor', 'High-grade Malignant Neoplasm', 'Spindle Cell Rhabdomyosarcoma', 'Serous Cystadenocarcinoma NOS', 'Retinoblastoma', 'Low-grade glial-glioneuronal tumor', 'Adenocarcinoma', 'Juvenile Granulosa Cell Tumor', 'Angiomatoid Fibrous Histiocytoma', 'Schwannoma', 'Low Grade Glioma', 'Polymorphous Low Grade Neuroepithelial Tumor', 'Malignant Pecoma', 'Cellular Neoplasm', 'Low Grade Neuroepithelial Tumor', 'Pituitary Tumor', 'Acute Myeloid Leukemia, NOS', 'Glial Tumor', 'Metastatic Papillary Thyroid Carcinoma', 'Rhabdomyosarcoma', 'Precursor B-Cell Acute Lymphoblastic Leukemia with Hyperdiploidy', 'Testicular mass', 'High-grade Angiosarcoma', 'Low-cellularity glioma', 'Glioneuronal Tumor', 'Spindle Cell Lesion', 'Mixed germ cell w/ matrue teratoma', 'Adamantinomatous Craniopharyngioma', 'Rhabdoid Tumor, Malignant', 'Glial-neuronal neoplasm', 'Neuroblastoma', 'Diffuse Glioma', 'Epitheloid Sarcoma', 'Osteosarcoma, NOS', 'High-grade neuroepithelial tumor', 'Low-grade astrocytoma', 'Anaplastic Rhabdomyosarcoma', 'Retinoblastoma, moderately differentiated', 'Giant cell glioblastoma', 'Medulloblastoma', 'Sclerosing Stromal Tumor', 'Myxopapillary Ependymoma', 'Possible Synovial Sarcoma', 'Renal cell carcinoma, NOS', 'Hodgkin Lymphoma, NOS', 'Inflammatory Myofibroblastic Tumor', 'Ependymoma NOS', 'Central Nervous System Tumor with High Grade Histological Features', 'Adrenal Cortical Tumor', 'Embryonal Rhabdomyosarcoma', 'Intraductal Carcinoma NOS', 'Residual CIC-Rearranged Sarcoma', 'Low-grade Glioneuronal Neoplasm', 'T-lymphoblastic Leukemia', 'Malignant Melanoma NOS', 'Atypical Choroid Plexus Papilloma', '4th Ventricular Brain Tumor', 'Clear Cell Meningioma', 'Poorly Differentiated Pulmonary Adenocarcinoma', 'Optic Pathway Glioma', 'High-grade Astrocytoma', 'Undifferentiated small round cell sarcoma', 'Posterior fossa group A ependymoma', 'Neuroepithelial neoplasm, Glioma', 'Alveolar Soft Part Sarcoma', 'Lobular Adenocarcinoma', 'Ganglioglioma', 'Sarcoma', 'Hepatocellular Carcinoma, Fibrolamellar', 'Mesenchymal Chondrosarcoma', 'T-lymphoblastic Lymphoma', 'Low-grade Glial Neoplasm', 'Malignant peripheral nerve sheath tumor', 'Low-grade circumscribed glial/glioneuronal tumor', 'Embryonal Tumor', 'Embryonal Neoplasm', 'Pure Germinoma', 'Spinal Tumor', 'Biphasic Synovial Sarcoma', 'Follicular Hyperplasia/Metastatic Papillary Thyroid Cancer', 'Fibromatosis', 'Primitive Sarcoma', 'Acute monoblastic leukemia', 'Therapy-related myeloid neoplasms', 'Intraventricular Tumor', 'Pleomorphic Xanthoastrocytoma', 'Choroid Plexus Neoplasm', 'Papillary Tumor of The Pineal Region', 'Craniopharyngioma', 'Lobular And Ductal Carcinoma', 'Ductal Carcinoma NOS', 'Mixed-Phenotype Acute Leukemia, B/Myeloid, Not Otherwise Specified', 'Residual High-Grade Sarcoma', 'Nephroblastoma (Wilms Tumor)', 'Mesenchymal Neoplasm', 'Malignant neuroepithelial tumor', 'Cerebellopontine Angle Tumor', 'Supratentorial Choroid Plexus Papilloma', 'Small Round Blue Cell Tumor', 'Round To Spindle Cell Sarcoma', 'Classic Medulloblastoma', 'Ganglioneuroma', 'Primitive Neuroectoderma Tumor', 'Juvenile Myelomonocytic Leukemia', 'Well Differentiated Neuroendocrine Tumor', 'Posterior Fossa Tumor', 'Low Grade Astrocytoma', 'Low Cellularity Glioma', 'Round Blue Cell Tumor', 'Carcinosarcoma NOS', 'Low-grade Glioma', 'Low Grade Glioneuronal Tumor', 'Paratesticular Spindle Cell/Sclerosing Rhabdomyosarcoma', 'Pleomorphic Sarcoma', 'Residual High Grade Astrocytoma With Piloid Features', 'Glioneuronal Neoplasm', 'Primary mediastinal (thymic) large B-cell lymphoma', 'Low Grade Neuroglial Tumor', 'Desmoplastic/Nodular Medulloblastoma', 'Synovial Sarcoma', 'High-grade Synovial Sarcoma', 'Glioma', 'Neuroepithelial Neoplasm', 'Low Grade Spindle Cell Neoplasm', 'Chronic Myeloid Leukemia, BCR-ABL1-Positive', 'Low-grade tumor']\n"
     ]
    }
   ],
   "source": [
    "disease_list = []\n",
    "for disease in diseases:\n",
    "    disease_list.append(disease['primary_diagnosis'])\n",
    "\n",
    "#remove any duplicates\n",
    "disease_list = list(set(disease_list))\n",
    "print(disease_list)"
   ]
  },
  {
   "cell_type": "markdown",
   "id": "9471af97-4e41-4ef5-98b8-7c09ceed7ae6",
   "metadata": {},
   "source": [
    "That's a fair number of diseases.  If we're interested in something like Glioma, that could be represented in several different names, so let's see if this can be reduced"
   ]
  },
  {
   "cell_type": "code",
   "execution_count": 13,
   "id": "3a7a7037-92f7-42dd-8c6a-41594cd2b950",
   "metadata": {},
   "outputs": [
    {
     "name": "stdout",
     "output_type": "stream",
     "text": [
      "['Astrocytic Glioma', 'Infiltrating Glioma', 'Infant Hemispheric Glioma', 'Angiocentric Glioma', 'Low Grade Glioma', 'Diffuse Glioma', 'Optic Pathway Glioma', 'Neuroepithelial neoplasm, Glioma', 'Low Cellularity Glioma', 'Low-grade Glioma', 'Glioma']\n"
     ]
    }
   ],
   "source": [
    "glioma_list = [s for s in disease_list if \"Glioma\" in s]\n",
    "print(glioma_list)"
   ]
  },
  {
   "cell_type": "markdown",
   "id": "b78f5547-fc3e-4775-94ef-4719510b930e",
   "metadata": {},
   "source": [
    "Finding out what studies these are associated with could help understand what kinds of data are avaiable.  From the CDS data model, the way to find out what studies are associated with a diagnosis is to go through the Participant node.  Hence, the query includes the participant.\n",
    "We'll also get the phs_accession number as that is a less clumsy way to query the database than the name."
   ]
  },
  {
   "cell_type": "code",
   "execution_count": 18,
   "id": "ba922e77-b079-4be3-b959-e07386531197",
   "metadata": {},
   "outputs": [],
   "source": [
    "diagnosisStudyQuery = \"\"\"\n",
    "query diagnosisStudies($diagnosis: String!){\n",
    "  diagnosis(primary_diagnosis:$diagnosis){\n",
    "    participant{\n",
    "      study{\n",
    "        study_name\n",
    "        phs_accession\n",
    "      }\n",
    "    }\n",
    "  }\n",
    "}\n",
    "\"\"\""
   ]
  },
  {
   "cell_type": "code",
   "execution_count": 23,
   "id": "a4d082fa-fd24-4ae6-b15b-ed875d9d1e3a",
   "metadata": {},
   "outputs": [],
   "source": [
    "columns = [\"Diagnosis\", \"Studies\",\"PHS Accession\"]\n",
    "study_df = pd.DataFrame(columns = columns)\n",
    "for glioma in glioma_list:\n",
    "    studies= {}\n",
    "    variables = {\"diagnosis\": glioma}\n",
    "    results = runGraphQLQuery(cds_graphql_url, diagnosisStudyQuery, variables)\n",
    "    results = results['data']['diagnosis']\n",
    "    #Putting everything in a dictionary removes duplicates\n",
    "    for result in results:\n",
    "        studies[result['participant']['study']['study_name']] = result['participant']['study']['phs_accession']\n",
    "    for studyname, phs in studies.items():\n",
    "        study_df.loc[len(study_df.index)] = [glioma, studyname, phs]\n",
    "        \n",
    "    "
   ]
  },
  {
   "cell_type": "code",
   "execution_count": 24,
   "id": "40856f9c-addb-4534-a99b-6563628d62b6",
   "metadata": {},
   "outputs": [
    {
     "data": {
      "text/markdown": [
       "|    | Diagnosis                        | Studies                                                                                                                                       | PHS Accession   |\n",
       "|---:|:---------------------------------|:----------------------------------------------------------------------------------------------------------------------------------------------|:----------------|\n",
       "|  0 | Astrocytic Glioma                | Clinical Trial Specimen Molecular Characterization (CTSMC)                                                                                    | phs002790       |\n",
       "|  1 | Infiltrating Glioma              | Clinical Trial Specimen Molecular Characterization (CTSMC)                                                                                    | phs002790       |\n",
       "|  2 | Infant Hemispheric Glioma        | Clinical Trial Specimen Molecular Characterization (CTSMC)                                                                                    | phs002790       |\n",
       "|  3 | Angiocentric Glioma              | Clinical Trial Specimen Molecular Characterization (CTSMC)                                                                                    | phs002790       |\n",
       "|  4 | Low Grade Glioma                 | Clinical Trial Specimen Molecular Characterization (CTSMC)                                                                                    | phs002790       |\n",
       "|  5 | Diffuse Glioma                   | Clinical Trial Specimen Molecular Characterization (CTSMC)                                                                                    | phs002790       |\n",
       "|  6 | Optic Pathway Glioma             | Clinical Trial Specimen Molecular Characterization (CTSMC)                                                                                    | phs002790       |\n",
       "|  7 | Neuroepithelial neoplasm, Glioma | Clinical Trial Specimen Molecular Characterization (CTSMC)                                                                                    | phs002790       |\n",
       "|  8 | Low Cellularity Glioma           | Clinical Trial Specimen Molecular Characterization (CTSMC)                                                                                    | phs002790       |\n",
       "|  9 | Low-grade Glioma                 | Clinical Trial Specimen Molecular Characterization (CTSMC)                                                                                    | phs002790       |\n",
       "| 10 | Glioma                           | Human Tumor Atlas Network (HTAN) primary sequencing data                                                                                      | phs002371       |\n",
       "| 11 | Glioma                           | CIDR: Discovery, Biology, and Risk of Inherited Variants in Glioma sample                                                                     | phs002250       |\n",
       "| 12 | Glioma                           | Clinical Trial Specimen Molecular Characterization (CTSMC)                                                                                    | phs002790       |\n",
       "| 13 | Glioma                           | Childhood Cancer Data Initiative (CCDI): Integration of genomic and clinical data from unique rare cancer datasets to facilitate data sharing | phs002517       |\n",
       "| 14 | Glioma                           | TCGA WGS Variants Across 18 Cancer Types                                                                                                      | phs003155       |"
      ],
      "text/plain": [
       "<IPython.core.display.Markdown object>"
      ]
     },
     "metadata": {},
     "output_type": "display_data"
    }
   ],
   "source": [
    "display(Markdown(study_df.to_markdown()))"
   ]
  },
  {
   "cell_type": "markdown",
   "id": "7f51a096-b0b7-4735-b188-8d5d217b61f8",
   "metadata": {},
   "source": [
    "From this results, it's very clear that the CTSMC study is the one to take a much closer look at.  We know from the introspection queries that there's a StudyDetail query that provides an overview, let's see what that looks like. As before, we'll use a variable so we can more easily reuse the query"
   ]
  },
  {
   "cell_type": "code",
   "execution_count": 25,
   "id": "b1a6b2eb-945c-4e4f-ab08-e4432dc06398",
   "metadata": {},
   "outputs": [],
   "source": [
    "study_detail_query = \"\"\"\n",
    "query getStudyDetails ($phs:String!){\n",
    "  studyDetail(phs_accession:$phs){\n",
    "    study_acronym\n",
    "    study_description\n",
    "    study_external_url\n",
    "    study_name\n",
    "    phs_accession\n",
    "    numberOfDiseaseSites\n",
    "    numberOfFiles\n",
    "    numberOfSamples\n",
    "    numberOfSubjects\n",
    "    data_types\n",
    "  }\n",
    "}\n",
    "\"\"\""
   ]
  },
  {
   "cell_type": "code",
   "execution_count": 33,
   "id": "aa46cc85-3a6c-4af3-bc51-87b4ec4db855",
   "metadata": {},
   "outputs": [],
   "source": [
    "variables = {\"phs\": \"phs002790\"}\n",
    "study_detail = runGraphQLQuery(cds_graphql_url, study_detail_query, variables)\n",
    "study_detail = study_detail['data']['studyDetail']"
   ]
  },
  {
   "cell_type": "code",
   "execution_count": 34,
   "id": "01808b20-54bf-403b-adcb-9f20a55d7e29",
   "metadata": {},
   "outputs": [],
   "source": [
    "columns = ['Disease Sites', 'Files', 'Samples', 'Subject', 'Data Types', 'Acronym', 'Description','External URL']\n",
    "data = [study_detail['numberOfDiseaseSites'],study_detail['numberOfFiles'],study_detail['numberOfSamples'],study_detail['numberOfSubjects'],study_detail['data_types'],study_detail['study_acronym'],study_detail['study_description'],study_detail['study_external_url']]\n",
    "detail_df = pd.DataFrame([data], columns=columns)\n"
   ]
  },
  {
   "cell_type": "code",
   "execution_count": 35,
   "id": "c29c7296-cd5c-4f57-9aa3-bd388766ac16",
   "metadata": {},
   "outputs": [
    {
     "data": {
      "text/markdown": [
       "|    |   Disease Sites |   Files |   Samples |   Subject | Data Types   | Acronym   | Description                                                                                                                                                                                                                                                                                                                                                                                                                                                                                                                                                                                                                                                                                                                                              | External URL                                                                         |\n",
       "|---:|----------------:|--------:|----------:|----------:|:-------------|:----------|:---------------------------------------------------------------------------------------------------------------------------------------------------------------------------------------------------------------------------------------------------------------------------------------------------------------------------------------------------------------------------------------------------------------------------------------------------------------------------------------------------------------------------------------------------------------------------------------------------------------------------------------------------------------------------------------------------------------------------------------------------------|:-------------------------------------------------------------------------------------|\n",
       "|  0 |             135 |   49747 |      5647 |      2446 | Genomic      | CTSMC     | The National Cancer Institute's (NCI) Childhood Cancer Data Initiative (CCDI) focuses on the critical need to collect, analyze, and share data to address the burden of cancer in children, adolescents, and young adults (AYAs). The Molecular Characterization Initiative (MCI) will further the CCDI's goals by providing access to better diagnostic tests for pediatric and AYA patients. The molecular characterizations of solid tumors, soft tissue sarcomas, and rare diseases are performed in a CLIA-certified setting as results may be used to screen for and/or confirm clinical trial eligibility, direct treatment, or otherwise contribute to the conduct of the trial. The following molecular characterization assays were performed: | https://www.ncbi.nlm.nih.gov/projects/gap/cgi-bin/study.cgi?study_id=phs002790.v5.p1 |"
      ],
      "text/plain": [
       "<IPython.core.display.Markdown object>"
      ]
     },
     "metadata": {},
     "output_type": "display_data"
    }
   ],
   "source": [
    "display(Markdown(detail_df.to_markdown()))"
   ]
  },
  {
   "cell_type": "code",
   "execution_count": null,
   "id": "e9573729-cca5-445b-beb7-adc1742efc5f",
   "metadata": {},
   "outputs": [],
   "source": []
  }
 ],
 "metadata": {
  "kernelspec": {
   "display_name": "Python 3 (ipykernel)",
   "language": "python",
   "name": "python3"
  },
  "language_info": {
   "codemirror_mode": {
    "name": "ipython",
    "version": 3
   },
   "file_extension": ".py",
   "mimetype": "text/x-python",
   "name": "python",
   "nbconvert_exporter": "python",
   "pygments_lexer": "ipython3",
   "version": "3.10.12"
  }
 },
 "nbformat": 4,
 "nbformat_minor": 5
}
